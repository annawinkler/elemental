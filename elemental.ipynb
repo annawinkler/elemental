{
 "cells": [
  {
   "cell_type": "markdown",
   "source": [
    "# Elements in Text Example\n",
    "\n",
    "This example is based on Chapter 1: Language and Computation from Bengfort, Bilbro & Ojeda's Applied Text Analysis with Python. Their example detected gender in text, and because that example doesn't resonate with me, I wanted to instead explore detecting elements in text (earth, air, water, fire)."
   ],
   "metadata": {
    "collapsed": false
   }
  },
  {
   "cell_type": "code",
   "execution_count": 2,
   "metadata": {
    "collapsed": true,
    "pycharm": {
     "name": "#%%\n"
    }
   },
   "outputs": [
    {
     "name": "stdout",
     "output_type": "stream",
     "text": [
      "Earth: 0 Air: 0 Water: 0 Fire: 0\n",
      "Earth: 0 Air: 0 Water: 0 Fire: 0\n",
      "Earth: 0 Air: 0 Water: 0 Fire: 0\n",
      "Earth: 0 Air: 0 Water: 0 Fire: 0\n",
      "100.0% water (4 sentences\n"
     ]
    }
   ],
   "source": [
    "import nltk\n",
    "\n",
    "from collections import Counter\n",
    "\n",
    "EARTH = 'earth'\n",
    "AIR = 'air'\n",
    "FIRE = 'fire'\n",
    "WATER = 'water'\n",
    "UNKNOWN = 'unknown'\n",
    "\n",
    "EARTH_WORDS = {'earth', 'ground', 'soil', 'dirt', 'green', 'brown'}\n",
    "AIR_WORDS = {'air', 'light', 'smoke', 'fog', 'smog', 'cloud', 'mist', 'white', 'grey'}\n",
    "WATER_WORDS = {'blue', 'water', 'ocean', 'river', 'stream', 'flow'}\n",
    "FIRE_WORDS = {'fire', 'hot', 'red', 'orange', 'yellow', 'active'}\n",
    "\n",
    "\n",
    "def elementalize(words):\n",
    "    earth_len = len(EARTH_WORDS.intersection(words))\n",
    "    air_len = len(AIR_WORDS.intersection(words))\n",
    "    water_len = len(WATER_WORDS.intersection(words))\n",
    "    fire_len = len(FIRE_WORDS.intersection(words))\n",
    "\n",
    "    # TODO: Calculate the max and return that instead\n",
    "    print(f'Earth: {earth_len} Air: {air_len} Water: {water_len} Fire: {fire_len}')\n",
    "\n",
    "    return WATER\n",
    "\n",
    "def count_elements(sentences):\n",
    "    num_sentences = Counter()\n",
    "    num_words = Counter()\n",
    "\n",
    "    for sentence in sentences:\n",
    "        element = elementalize(sentence)\n",
    "        num_sentences[element] += 1\n",
    "        num_words[element] += len(sentence)\n",
    "\n",
    "    return num_sentences, num_words\n",
    "\n",
    "def parse_element(text):\n",
    "    sentences = [\n",
    "        [word.lower() for word in nltk.word_tokenize(sentence)]\n",
    "        for sentence in nltk.sent_tokenize(text)\n",
    "    ]\n",
    "\n",
    "    num_sentences, num_words = count_elements(sentences)\n",
    "    total = sum(num_words.values())\n",
    "\n",
    "    for element, count in num_words.items():\n",
    "        percent = (count / total) * 100\n",
    "        nsents = num_sentences[element]\n",
    "\n",
    "        print(f'{percent}% {element} ({nsents} sentences)')\n",
    "\n",
    "sample_text = 'The day had begun on a bright note. The sun finally peeked through the rain for the first time in a week, and the birds were sinf=ging in its warmth. There was no way to anticipate what was about to happen. It was a worst-case scenario and there was no way out of it.'\n",
    "\n",
    "parse_element(sample_text)"
   ]
  }
 ],
 "metadata": {
  "kernelspec": {
   "display_name": "Python 3",
   "language": "python",
   "name": "python3"
  },
  "language_info": {
   "codemirror_mode": {
    "name": "ipython",
    "version": 2
   },
   "file_extension": ".py",
   "mimetype": "text/x-python",
   "name": "python",
   "nbconvert_exporter": "python",
   "pygments_lexer": "ipython2",
   "version": "2.7.6"
  }
 },
 "nbformat": 4,
 "nbformat_minor": 0
}